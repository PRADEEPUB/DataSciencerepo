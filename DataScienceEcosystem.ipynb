{
 "cells": [
  {
   "cell_type": "markdown",
   "id": "a23faba6-614d-4963-8ef6-330467bf148c",
   "metadata": {},
   "source": [
    "# Data Science Tools and Ecosystem"
   ]
  },
  {
   "cell_type": "markdown",
   "id": "7e202d12-cd6e-4eda-8c1b-bed75231c5cb",
   "metadata": {},
   "source": [
    "In this notebook data science tools & Ecosystem are summarized."
   ]
  },
  {
   "cell_type": "code",
   "execution_count": null,
   "id": "68540c9a-abd8-4b4d-93f8-e995b3eebf28",
   "metadata": {},
   "outputs": [],
   "source": [
    "Some of the popular languages that Data Scientists use are:\n",
    "    1. Python\n",
    "    2. R \n",
    "    3. Julia\n",
    "    4. SQL\n",
    "    5. Java \n",
    "    6. Julia\n",
    "    7. Scala"
   ]
  },
  {
   "cell_type": "markdown",
   "id": "0d0de941-b5c4-4844-8c1c-298092708850",
   "metadata": {},
   "source": [
    "Some of the commonly used libraries used by Data Scientists include:\n",
    "1. Pandas\n",
    "2. Numpy\n",
    "3. Matplotlib\n",
    "4. Scikit-Learn\n",
    "5. Keras\n",
    "6. Scrapy"
   ]
  },
  {
   "cell_type": "markdown",
   "id": "b22c6ba8-91ee-447e-8ab2-24b221f6516c",
   "metadata": {},
   "source": [
    "# Tools used in data science\n",
    "| Data Science Tools |\n",
    "| ------------------ |\n",
    "| Apache Spark       |\n",
    "| Tensor Flow        |\n",
    "| Tableu             |\n",
    "| KNIME              |\n",
    "| Pytorch            |"
   ]
  },
  {
   "cell_type": "markdown",
   "id": "252e5d7b-f286-4f61-9d01-dd33d770f454",
   "metadata": {},
   "source": [
    "### Below are a few examples of evaluating arithmetic expressions in python\n",
    "5 + 3\n",
    "5 * 3\n",
    "4+5*10"
   ]
  },
  {
   "cell_type": "code",
   "execution_count": 4,
   "id": "70bbffd8-196a-4bb3-b645-a0c6b139769c",
   "metadata": {
    "tags": []
   },
   "outputs": [
    {
     "data": {
      "text/plain": [
       "17"
      ]
     },
     "execution_count": 4,
     "metadata": {},
     "output_type": "execute_result"
    }
   ],
   "source": [
    "# This is a simple arithmetic expression to multiply then add integers\n",
    "(3 * 4) + 5"
   ]
  },
  {
   "cell_type": "code",
   "execution_count": 5,
   "id": "64c899e5-e500-48c7-bacb-467bbfd046c5",
   "metadata": {
    "tags": []
   },
   "outputs": [
    {
     "name": "stdout",
     "output_type": "stream",
     "text": [
      "3.3333333333333335\n"
     ]
    }
   ],
   "source": [
    "# This will convert 200 minutes to hours by dividing by 60\n",
    "hours = 200 / 60\n",
    "print(hours)"
   ]
  },
  {
   "cell_type": "markdown",
   "id": "f4333bdf-2699-48f7-b5e9-bb1799e2744e",
   "metadata": {},
   "source": [
    "# ** Objectives **\n",
    "- Python, R, SQL, Java are the popular languages used in data science.\n",
    "- Apache Spark, Tableu, PowerBi, Tensor Flow are important data science tools.\n",
    "- pandas, numpy, matplot=lib, scikit-learn are main data science libraries.\n",
    "- To become data scientist you need to be curious, story teller & very ggod in statistics."
   ]
  },
  {
   "cell_type": "markdown",
   "id": "b4d8d1e8-95d8-4000-ad11-2d50b5d14e08",
   "metadata": {},
   "source": [
    "## Author\n",
    "   Pradeep Bhalerao"
   ]
  }
 ],
 "metadata": {
  "kernelspec": {
   "display_name": "Python",
   "language": "python",
   "name": "conda-env-python-py"
  },
  "language_info": {
   "codemirror_mode": {
    "name": "ipython",
    "version": 3
   },
   "file_extension": ".py",
   "mimetype": "text/x-python",
   "name": "python",
   "nbconvert_exporter": "python",
   "pygments_lexer": "ipython3",
   "version": "3.7.12"
  }
 },
 "nbformat": 4,
 "nbformat_minor": 5
}
